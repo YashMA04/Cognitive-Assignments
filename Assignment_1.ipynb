{
  "nbformat": 4,
  "nbformat_minor": 0,
  "metadata": {
    "colab": {
      "provenance": []
    },
    "kernelspec": {
      "name": "python3",
      "display_name": "Python 3"
    },
    "language_info": {
      "name": "python"
    }
  },
  "cells": [
    {
      "cell_type": "markdown",
      "source": [
        "**Assingment 1.1**: WAP to print your name three times"
      ],
      "metadata": {
        "id": "EFtZ2Hry81Pl"
      }
    },
    {
      "cell_type": "code",
      "source": [
        "for i in range(0,3):\n",
        "  print(\"Yash\")"
      ],
      "metadata": {
        "colab": {
          "base_uri": "https://localhost:8080/"
        },
        "id": "yiyiVvx88zH7",
        "outputId": "6c7333e1-86c5-42fe-f47b-fc3da29f823a"
      },
      "execution_count": null,
      "outputs": [
        {
          "output_type": "stream",
          "name": "stdout",
          "text": [
            "Yash\n",
            "Yash\n",
            "Yash\n"
          ]
        }
      ]
    },
    {
      "cell_type": "markdown",
      "source": [
        "**Assingment 2.1**: WAP to add three numbers and print the result."
      ],
      "metadata": {
        "id": "0UdtvfNP8_g5"
      }
    },
    {
      "cell_type": "code",
      "source": [
        "a=10\n",
        "b=20\n",
        "c=30\n",
        "d=a+b+c\n",
        "\n",
        "print(a,\"+\",b,\"+\",c,\"=\",d)"
      ],
      "metadata": {
        "colab": {
          "base_uri": "https://localhost:8080/"
        },
        "id": "nPamObGS87Gy",
        "outputId": "4c460364-6dd0-42fa-a0cb-62250caa4e9a"
      },
      "execution_count": null,
      "outputs": [
        {
          "output_type": "stream",
          "name": "stdout",
          "text": [
            "10 + 20 + 30 = 60\n"
          ]
        }
      ]
    },
    {
      "cell_type": "markdown",
      "source": [
        "\n",
        "**Assingment 2.2**: WAP to concatinate three strings and print the result.\n"
      ],
      "metadata": {
        "id": "hQhcMSgb9Qgh"
      }
    },
    {
      "cell_type": "code",
      "source": [
        "a=\"Yash\"\n",
        "b=\"Mohan\"\n",
        "c=\"Aggarwal\"\n",
        "d=a+b+c\n",
        "\n",
        "print(a,\"+\",b,\"+\",c,\"=\",d)"
      ],
      "metadata": {
        "colab": {
          "base_uri": "https://localhost:8080/"
        },
        "id": "DeqxMgdU9TcZ",
        "outputId": "06a5d3b0-2e7f-4c04-f47b-823e85d67a53"
      },
      "execution_count": null,
      "outputs": [
        {
          "output_type": "stream",
          "name": "stdout",
          "text": [
            "Yash + Mohan + Aggarwal = YashMohanAggarwal\n"
          ]
        }
      ]
    },
    {
      "cell_type": "code",
      "source": [],
      "metadata": {
        "colab": {
          "base_uri": "https://localhost:8080/"
        },
        "id": "XneUCSJS9btB",
        "outputId": "1ce03907-f814-4283-8ba4-613ffc4a536e"
      },
      "execution_count": null,
      "outputs": [
        {
          "output_type": "execute_result",
          "data": {
            "text/plain": [
              "range(0, 10)"
            ]
          },
          "metadata": {},
          "execution_count": 5
        }
      ]
    },
    {
      "cell_type": "markdown",
      "source": [],
      "metadata": {
        "id": "OM-KYA4F9kp6"
      }
    },
    {
      "cell_type": "code",
      "source": [
        "print (\"range(-10,-20,2) --> \", list(range(-10,-20,2)))"
      ],
      "metadata": {
        "colab": {
          "base_uri": "https://localhost:8080/"
        },
        "id": "XGEwf8z29iiZ",
        "outputId": "40229b76-1904-4b31-f74b-7afef6b80a9a"
      },
      "execution_count": null,
      "outputs": [
        {
          "output_type": "stream",
          "name": "stdout",
          "text": [
            "range(-10,-20,2) -->  []\n"
          ]
        }
      ]
    },
    {
      "cell_type": "markdown",
      "source": [
        "**Assingment 4.1:** WAP to print the table of 7, 9."
      ],
      "metadata": {
        "id": "-3200FuN-dTJ"
      }
    },
    {
      "cell_type": "code",
      "source": [
        "for i in range(1,11):\n",
        "  print(7*i)"
      ],
      "metadata": {
        "colab": {
          "base_uri": "https://localhost:8080/"
        },
        "id": "CwwoPoIf99NH",
        "outputId": "647969d4-9ae6-4cde-8f9a-ad1c75297756"
      },
      "execution_count": null,
      "outputs": [
        {
          "output_type": "stream",
          "name": "stdout",
          "text": [
            "7\n",
            "14\n",
            "21\n",
            "28\n",
            "35\n",
            "42\n",
            "49\n",
            "56\n",
            "63\n",
            "70\n"
          ]
        }
      ]
    },
    {
      "cell_type": "code",
      "source": [
        "for i in range(1,11):\n",
        "  print(9*i)"
      ],
      "metadata": {
        "colab": {
          "base_uri": "https://localhost:8080/"
        },
        "id": "exgE9t-o-rzq",
        "outputId": "4a115eae-1fe8-4437-e354-6f98eea87605"
      },
      "execution_count": null,
      "outputs": [
        {
          "output_type": "stream",
          "name": "stdout",
          "text": [
            "9\n",
            "18\n",
            "27\n",
            "36\n",
            "45\n",
            "54\n",
            "63\n",
            "72\n",
            "81\n",
            "90\n"
          ]
        }
      ]
    },
    {
      "cell_type": "markdown",
      "source": [
        "**Assingment 4.2:** WAP to print the table of n and n is given by user."
      ],
      "metadata": {
        "id": "xXb2CfCv_E5x"
      }
    },
    {
      "cell_type": "code",
      "source": [
        "a=int(input(\"Enter a number: \"))\n",
        "for i in range(1,11):\n",
        "  print(i*a)"
      ],
      "metadata": {
        "colab": {
          "base_uri": "https://localhost:8080/"
        },
        "id": "Si_wqudf_C9H",
        "outputId": "cde58114-19fa-4cda-fde2-b9d1ad8c7ab7"
      },
      "execution_count": null,
      "outputs": [
        {
          "output_type": "stream",
          "name": "stdout",
          "text": [
            "Enter a number: 3\n",
            "3\n",
            "6\n",
            "9\n",
            "12\n",
            "15\n",
            "18\n",
            "21\n",
            "24\n",
            "27\n",
            "30\n"
          ]
        }
      ]
    },
    {
      "cell_type": "markdown",
      "source": [
        "**Assingment 4.3:** WAP to add all the numbers from 1 to n and n is given by user."
      ],
      "metadata": {
        "id": "NybyHma9_TH3"
      }
    },
    {
      "cell_type": "code",
      "source": [
        "a=int(input(\"Enter a number: \"))\n",
        "ans=sum(range(1,a+1))\n",
        "print(ans)"
      ],
      "metadata": {
        "colab": {
          "base_uri": "https://localhost:8080/"
        },
        "id": "n3Moig9l_QYn",
        "outputId": "6ed974e6-a45e-44b6-cf7e-da3577723197"
      },
      "execution_count": null,
      "outputs": [
        {
          "output_type": "stream",
          "name": "stdout",
          "text": [
            "Enter a number: 3\n",
            "6\n"
          ]
        }
      ]
    },
    {
      "cell_type": "markdown",
      "source": [
        "**Assingment 5.1:** WAP to find max amoung three numbers and input from user. [Try max() function]"
      ],
      "metadata": {
        "id": "-JMDUqi-_pYX"
      }
    },
    {
      "cell_type": "code",
      "source": [
        "a=int(input(\"Enter a number: \"))\n",
        "b=int(input(\"Enter a number: \"))\n",
        "c=int(input(\"Enter a number: \"))\n",
        "\n",
        "ans=max(a,b,c)\n",
        "print(ans)"
      ],
      "metadata": {
        "colab": {
          "base_uri": "https://localhost:8080/"
        },
        "id": "B8KL8hjr_qF_",
        "outputId": "e07b54b9-d9a2-4554-cb07-6f1d08d3c56f"
      },
      "execution_count": null,
      "outputs": [
        {
          "output_type": "stream",
          "name": "stdout",
          "text": [
            "Enter a number: 2\n",
            "Enter a number: 3\n",
            "Enter a number: 4\n",
            "4\n"
          ]
        }
      ]
    },
    {
      "cell_type": "markdown",
      "source": [
        "**Assingment 5.2:** WAP to add all numbers divisible by 7 and 9 from 1 to n and n is given by the user."
      ],
      "metadata": {
        "id": "H0RZAmLG_7xG"
      }
    },
    {
      "cell_type": "code",
      "source": [
        "n=int(input(\"Enter a number: \"))\n",
        "ans=sum(range(1,n+1,63))\n",
        "print(ans)"
      ],
      "metadata": {
        "colab": {
          "base_uri": "https://localhost:8080/"
        },
        "id": "vDMVFfy__4uX",
        "outputId": "1ab44d90-c5ac-4bcd-ccc5-54c19a0fe36f"
      },
      "execution_count": null,
      "outputs": [
        {
          "output_type": "stream",
          "name": "stdout",
          "text": [
            "Enter a number: 900\n",
            "6630\n"
          ]
        }
      ]
    },
    {
      "cell_type": "markdown",
      "source": [
        "**Assingment 5.3:** WAP to add all prime numbers from 1 to n and n is given by the user."
      ],
      "metadata": {
        "id": "nw8cH7BEASrY"
      }
    },
    {
      "cell_type": "code",
      "source": [
        "n=int(input(\"Enter a number: \"))\n",
        "\n",
        "def isPrime(n):\n",
        "  if n==1:\n",
        "    return False\n",
        "  for i in range(2,n//2):\n",
        "    if n%i==0:\n",
        "      return False\n",
        "  return True\n",
        "\n",
        "ans=sum(i for i in range(1,n+1) if isPrime(i))\n",
        "print(ans)"
      ],
      "metadata": {
        "colab": {
          "base_uri": "https://localhost:8080/"
        },
        "id": "PPB9slEIALov",
        "outputId": "13e24722-5e28-4981-f718-31987b1bb9ee"
      },
      "execution_count": null,
      "outputs": [
        {
          "output_type": "stream",
          "name": "stdout",
          "text": [
            "Enter a number: 6\n",
            "14\n"
          ]
        }
      ]
    },
    {
      "cell_type": "markdown",
      "source": [
        "**Assingment 6.1:** WAP using function that add all odd numbers from 1 to n, n is given by the user."
      ],
      "metadata": {
        "id": "u9Al6l_1Brot"
      }
    },
    {
      "cell_type": "code",
      "source": [
        "n=int(input(\"Enter a number: \"))\n",
        "for i in range(1,n+1):\n",
        "  if i%2==1:\n",
        "    print(i)"
      ],
      "metadata": {
        "colab": {
          "base_uri": "https://localhost:8080/"
        },
        "id": "nMwLtI3QBno0",
        "outputId": "414cebca-f22f-4430-8dff-fe21debb3b3a"
      },
      "execution_count": null,
      "outputs": [
        {
          "output_type": "stream",
          "name": "stdout",
          "text": [
            "Enter a number: 7\n",
            "1\n",
            "3\n",
            "5\n",
            "7\n"
          ]
        }
      ]
    },
    {
      "cell_type": "markdown",
      "source": [
        "**Assingment 6.2:** WAP using function that add all prime numbers from 1 to n, n given by the user."
      ],
      "metadata": {
        "id": "LyslPJDxCCR1"
      }
    },
    {
      "cell_type": "code",
      "source": [
        "n=int(input(\"Enter a number: \"))\n",
        "\n",
        "def isPrime(n):\n",
        "  if n==1:\n",
        "    return False\n",
        "  for i in range(2,n//2):\n",
        "    if n%i==0:\n",
        "      return False\n",
        "  return True\n",
        "\n",
        "ans=sum(i for i in range(1,n+1) if isPrime(i))\n",
        "print(ans)"
      ],
      "metadata": {
        "colab": {
          "base_uri": "https://localhost:8080/"
        },
        "id": "Bv4-24qnB81W",
        "outputId": "2b8a1e13-0bc7-49e7-dc90-98740927a32c"
      },
      "execution_count": null,
      "outputs": [
        {
          "output_type": "stream",
          "name": "stdout",
          "text": [
            "Enter a number: 6\n",
            "14\n"
          ]
        }
      ]
    },
    {
      "cell_type": "code",
      "source": [],
      "metadata": {
        "id": "qhr3IgPgCFD9"
      },
      "execution_count": null,
      "outputs": []
    }
  ]
}