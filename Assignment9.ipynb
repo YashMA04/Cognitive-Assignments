{
 "cells": [
  {
   "cell_type": "code",
   "execution_count": 1,
   "id": "c247df48-31b6-48a6-8d2c-05f42bd9a062",
   "metadata": {},
   "outputs": [],
   "source": [
    "import nltk"
   ]
  },
  {
   "cell_type": "code",
   "execution_count": 2,
   "id": "21e1526c-433a-4a8d-b8b7-2ad8d6f0b624",
   "metadata": {},
   "outputs": [
    {
     "data": {
      "text/plain": [
       "'3.8.1'"
      ]
     },
     "execution_count": 2,
     "metadata": {},
     "output_type": "execute_result"
    }
   ],
   "source": [
    "nltk.__version__"
   ]
  },
  {
   "cell_type": "code",
   "execution_count": 3,
   "id": "7598d925-3ecd-472b-8808-4c37376a60cb",
   "metadata": {},
   "outputs": [
    {
     "name": "stderr",
     "output_type": "stream",
     "text": [
      "[nltk_data] Downloading package punkt to C:\\Users\\loq\n",
      "[nltk_data]     laptop\\AppData\\Roaming\\nltk_data...\n",
      "[nltk_data]   Package punkt is already up-to-date!\n"
     ]
    },
    {
     "data": {
      "text/plain": [
       "True"
      ]
     },
     "execution_count": 3,
     "metadata": {},
     "output_type": "execute_result"
    }
   ],
   "source": [
    "nltk.download('punkt')"
   ]
  },
  {
   "cell_type": "code",
   "execution_count": 4,
   "id": "93c7cb25-2ec4-4f70-a6aa-25844be7474e",
   "metadata": {},
   "outputs": [
    {
     "name": "stdout",
     "output_type": "stream",
     "text": [
      "['There', 'are', 'multiple', 'ways', 'we', 'can', 'perform', 'tokenization', 'on', 'given', 'text', 'data', '.', 'We', 'can', 'choose', 'any', 'method', 'based', 'on', 'langauge', ',', 'library', 'and', 'purpose', 'of', 'modeling', '.']\n"
     ]
    }
   ],
   "source": [
    "from nltk.tokenize import word_tokenize \n",
    "text = \"\"\"There are multiple ways we can perform tokenization on given text data. We can choose any method based on langauge, library and purpose of modeling.\"\"\" \n",
    "tokens = word_tokenize(text) \n",
    "print(tokens)\n"
   ]
  },
  {
   "cell_type": "code",
   "execution_count": 5,
   "id": "8d2cdc51-3cf5-45b4-a48d-38af2dec9154",
   "metadata": {},
   "outputs": [
    {
     "name": "stdout",
     "output_type": "stream",
     "text": [
      "['Characters like periods, exclamation point and newline char are used to separate the sentences.', 'But one drawback with split() method, that we can only use one separator at a time!', 'So sentence tonenization wont be foolproof with split() method.']\n"
     ]
    }
   ],
   "source": [
    "from nltk.tokenize import sent_tokenize \n",
    "text = \"\"\"Characters like periods, exclamation point and newline char are used to separate the sentences. But one drawback with split() method, that we can only use one separator at a time! So sentence tonenization wont be foolproof with split() method.\"\"\" \n",
    "tokens=sent_tokenize(text)\n",
    "print(tokens)"
   ]
  },
  {
   "cell_type": "code",
   "execution_count": 6,
   "id": "420be2ff-2d9d-45ca-b372-412cda8cc60c",
   "metadata": {},
   "outputs": [
    {
     "name": "stdout",
     "output_type": "stream",
     "text": [
      "['Characters like periods, exclamation point and newline char are used to separate the sentences', 'But one drawback with split() method, that we can only use one separator at a time! So sentence tonenization wont be foolproof with split() method.']\n"
     ]
    }
   ],
   "source": [
    "text = \"\"\"Characters like periods, exclamation point and newline char are used to separate the sentences. But one drawback with split() method, that we can only use one separator at a time! So sentence tonenization wont be foolproof with split() method.\"\"\" \n",
    "tokens=text.split(\". \") # Note the space after the full stop makes sure that we dont get empty element at the end of list.\n",
    "print(tokens)"
   ]
  },
  {
   "cell_type": "code",
   "execution_count": 7,
   "id": "3647f14f-b189-451d-bbc4-e989e7327e65",
   "metadata": {},
   "outputs": [
    {
     "name": "stdout",
     "output_type": "stream",
     "text": [
      "Programmers  :  programm\n",
      "program  :  program\n",
      "with  :  with\n",
      "programming  :  program\n",
      "languages  :  languag\n"
     ]
    }
   ],
   "source": [
    "from nltk.stem import PorterStemmer\n",
    "from nltk.tokenize import word_tokenize\n",
    "ps = PorterStemmer()\n",
    "sentence = \"Programmers program with programming languages\"\n",
    "words = word_tokenize(sentence)\n",
    "for w in words:\n",
    "    print(w, \" : \", ps.stem(w))\n"
   ]
  },
  {
   "cell_type": "code",
   "execution_count": 8,
   "id": "7a0b9613-7743-4902-8010-456f94c9e3b3",
   "metadata": {},
   "outputs": [
    {
     "name": "stdout",
     "output_type": "stream",
     "text": [
      "['runn', 'fli', 'studi', 'happiness', 'play', 'jumps']\n"
     ]
    }
   ],
   "source": [
    "from nltk.stem import RegexpStemmer\n",
    "# Define a regex pattern to remove common suffixes like \"ing\", \"ed\", \"es\"\n",
    "regexp_stemmer = RegexpStemmer(r\"ing$|ed$|es$\")\n",
    "words = [\"running\", \"flies\", \"studies\", \"happiness\", \"played\", \"jumps\"]\n",
    "stemmed_words = [regexp_stemmer.stem(word) for word in words]\n",
    "print(stemmed_words)\n",
    "\n"
   ]
  },
  {
   "cell_type": "code",
   "execution_count": 9,
   "id": "17d08d96-1d23-4615-ac80-7b644a6d6602",
   "metadata": {},
   "outputs": [
    {
     "name": "stderr",
     "output_type": "stream",
     "text": [
      "[nltk_data] Downloading package wordnet to C:\\Users\\loq\n",
      "[nltk_data]     laptop\\AppData\\Roaming\\nltk_data...\n",
      "[nltk_data]   Package wordnet is already up-to-date!\n"
     ]
    },
    {
     "data": {
      "text/plain": [
       "True"
      ]
     },
     "execution_count": 9,
     "metadata": {},
     "output_type": "execute_result"
    }
   ],
   "source": [
    "nltk.download('wordnet')\n"
   ]
  },
  {
   "cell_type": "code",
   "execution_count": 10,
   "id": "30a3d97c-c20d-454a-8813-4f031007ef48",
   "metadata": {},
   "outputs": [
    {
     "name": "stdout",
     "output_type": "stream",
     "text": [
      "['running', 'fly', 'study', 'better', 'happily', 'goose']\n"
     ]
    }
   ],
   "source": [
    "from nltk.stem import WordNetLemmatizer\n",
    "lemmatizer = WordNetLemmatizer()\n",
    "words = [\"running\", \"flies\", \"studies\", \"better\", \"happily\", \"geese\"]\n",
    "lemmatized_words = [lemmatizer.lemmatize(word) for word in words]\n",
    "lemmatizer.lemmatize(\"running\", pos=\"v\")  # 'run'\n",
    "print(lemmatized_words)\n"
   ]
  },
  {
   "cell_type": "code",
   "execution_count": 11,
   "id": "421902f1-4e56-4780-9be8-3b208e85a07e",
   "metadata": {},
   "outputs": [
    {
     "name": "stdout",
     "output_type": "stream",
     "text": [
      "rocks : rock\n",
      "corpora : corpus\n",
      "better : good\n"
     ]
    }
   ],
   "source": [
    "print(\"rocks :\", lemmatizer.lemmatize(\"rocks\"))\n",
    "print(\"corpora :\", lemmatizer.lemmatize(\"corpora\"))\n",
    "# a denotes adjective in \"pos\"\n",
    "print(\"better :\", lemmatizer.lemmatize(\"better\", pos=\"a\"))\n"
   ]
  },
  {
   "cell_type": "code",
   "execution_count": 12,
   "id": "fa252fd7-8d58-48ba-9b84-0a1e32887866",
   "metadata": {},
   "outputs": [
    {
     "name": "stdout",
     "output_type": "stream",
     "text": [
      "{'her', \"i'll\", 'do', 'out', \"haven't\", 'down', 'has', 'have', 'm', 'now', 'while', 'can', 'if', 'no', \"should've\", 'when', \"it'll\", \"hadn't\", 'o', 't', 'yours', 'or', 'again', 'aren', 'and', 'shan', 'here', \"won't\", 'most', \"you're\", 'will', 'about', \"doesn't\", 'each', 'once', 'don', \"i've\", \"couldn't\", 'ours', 'hers', 'too', 'yourselves', 'before', 'by', 'we', 'for', 'haven', 'needn', 'our', 'being', 'does', 'then', \"mustn't\", 'their', 'itself', 'but', 'it', 'from', \"that'll\", 'during', 'your', 'herself', \"she's\", 'at', 'this', 'both', 'is', 'ourselves', 'been', 'off', 'through', 'him', 'in', \"didn't\", 'isn', 'weren', 'are', 'be', 'because', 'that', 'did', 'which', 'than', \"you'll\", 'hadn', \"he's\", 'll', \"shan't\", 'into', 'on', \"we've\", 'further', 'whom', 'where', 'just', 'there', \"they're\", 'all', 'theirs', \"we'd\", 'she', \"mightn't\", \"isn't\", 'didn', 're', 'as', 'my', 'of', 'the', 'themselves', \"they'll\", 'an', \"needn't\", 'only', 'am', 'wouldn', 'wasn', \"wouldn't\", \"you'd\", 'very', 'myself', 'nor', 've', 'who', 'doing', \"he'd\", \"he'll\", 'me', 's', 'hasn', 'ain', \"you've\", 'over', \"weren't\", \"we'll\", 'some', 'mightn', 'why', 'was', 'd', 'a', 'to', 'same', \"i'm\", 'how', \"she'll\", \"wasn't\", 'after', 'yourself', \"we're\", 'not', \"they'd\", 'won', 'you', 'under', 'shouldn', 'other', 'such', 'any', 'between', 'himself', 'own', 'more', 'couldn', 'doesn', \"don't\", 'having', 'should', 'them', 'with', \"aren't\", 'these', 'he', 'they', 'were', 'until', 'up', 'its', 'those', \"i'd\", \"it'd\", 'so', \"they've\", 'below', \"it's\", 'what', \"hasn't\", 'against', 'had', 'above', 'his', 'mustn', 'i', \"she'd\", 'y', \"shouldn't\", 'ma', 'few'}\n",
      "['simple', 'example', 'demonstrate', 'removal', 'stopwords', 'NLP', '.']\n"
     ]
    },
    {
     "name": "stderr",
     "output_type": "stream",
     "text": [
      "[nltk_data] Downloading package stopwords to C:\\Users\\loq\n",
      "[nltk_data]     laptop\\AppData\\Roaming\\nltk_data...\n",
      "[nltk_data]   Package stopwords is already up-to-date!\n"
     ]
    }
   ],
   "source": [
    "nltk.download('stopwords')\n",
    "from nltk.corpus import stopwords\n",
    "# Get English stopwords\n",
    "stop_words = set(stopwords.words(\"english\"))\n",
    "print(stop_words)  # Display some stopwords\n",
    "\n",
    "from nltk.tokenize import word_tokenize\n",
    "text = \"This is a simple example to demonstrate the removal of stopwords in NLP.\"\n",
    "# Tokenizing the text\n",
    "tokens = word_tokenize(text)\n",
    "# Remove stopwords\n",
    "filtered_tokens = [word for word in tokens if word.lower() not in stop_words]\n",
    "print(filtered_tokens)\n"
   ]
  },
  {
   "cell_type": "markdown",
   "id": "1d605b0b-bcfc-4a7c-9377-0377bf6628b1",
   "metadata": {},
   "source": [
    "#Assignment 9 Questions\n"
   ]
  },
  {
   "cell_type": "code",
   "execution_count": 13,
   "id": "a9b86d4a-cee5-4a72-82c8-4ab653fc6feb",
   "metadata": {},
   "outputs": [],
   "source": [
    "para=\"\"\"Football, also known as soccer in some countries, is the world's most popular sport. It is played between two teams of eleven players on a rectangular field with a goal at each end. The main objective is to score goals by getting the ball into the opposing team's net. The game requires a combination of physical strength, speed, and strategic thinking. Football fosters teamwork, discipline, and sportsmanship among players. Major tournaments like the FIFA World Cup and UEFA Champions League attract millions of fans worldwide. The sport is played and loved across all age groups and regions. From street games to professional leagues, football brings people together. Its simplicity and excitement make it a universal language of passion and unity.\"\"\""
   ]
  },
  {
   "cell_type": "code",
   "execution_count": 14,
   "id": "0c9bae0e-f5cb-410e-9861-7084e091d7d5",
   "metadata": {},
   "outputs": [],
   "source": [
    "text=para.lower()"
   ]
  },
  {
   "cell_type": "code",
   "execution_count": 15,
   "id": "c5fd5116-81c3-451d-a61f-aae37fd76f5a",
   "metadata": {},
   "outputs": [],
   "source": [
    "import string\n",
    "text = text.translate(str.maketrans('', '', string.punctuation))"
   ]
  },
  {
   "cell_type": "code",
   "execution_count": 16,
   "id": "4c678bf9-ee67-46ab-ae24-48e9519ee850",
   "metadata": {},
   "outputs": [
    {
     "data": {
      "text/plain": [
       "'football also known as soccer in some countries is the worlds most popular sport it is played between two teams of eleven players on a rectangular field with a goal at each end the main objective is to score goals by getting the ball into the opposing teams net the game requires a combination of physical strength speed and strategic thinking football fosters teamwork discipline and sportsmanship among players major tournaments like the fifa world cup and uefa champions league attract millions of fans worldwide the sport is played and loved across all age groups and regions from street games to professional leagues football brings people together its simplicity and excitement make it a universal language of passion and unity'"
      ]
     },
     "execution_count": 16,
     "metadata": {},
     "output_type": "execute_result"
    }
   ],
   "source": [
    "text"
   ]
  },
  {
   "cell_type": "code",
   "execution_count": 17,
   "id": "3b4f8d6f-60a1-4ed7-9a7f-dab6c05c13ba",
   "metadata": {},
   "outputs": [],
   "source": [
    "words=word_tokenize(text)"
   ]
  },
  {
   "cell_type": "code",
   "execution_count": 18,
   "id": "251abcdb-2d48-4216-a880-c54e0337d162",
   "metadata": {},
   "outputs": [
    {
     "data": {
      "text/plain": [
       "['football',\n",
       " 'also',\n",
       " 'known',\n",
       " 'as',\n",
       " 'soccer',\n",
       " 'in',\n",
       " 'some',\n",
       " 'countries',\n",
       " 'is',\n",
       " 'the',\n",
       " 'worlds',\n",
       " 'most',\n",
       " 'popular',\n",
       " 'sport',\n",
       " 'it',\n",
       " 'is',\n",
       " 'played',\n",
       " 'between',\n",
       " 'two',\n",
       " 'teams',\n",
       " 'of',\n",
       " 'eleven',\n",
       " 'players',\n",
       " 'on',\n",
       " 'a',\n",
       " 'rectangular',\n",
       " 'field',\n",
       " 'with',\n",
       " 'a',\n",
       " 'goal',\n",
       " 'at',\n",
       " 'each',\n",
       " 'end',\n",
       " 'the',\n",
       " 'main',\n",
       " 'objective',\n",
       " 'is',\n",
       " 'to',\n",
       " 'score',\n",
       " 'goals',\n",
       " 'by',\n",
       " 'getting',\n",
       " 'the',\n",
       " 'ball',\n",
       " 'into',\n",
       " 'the',\n",
       " 'opposing',\n",
       " 'teams',\n",
       " 'net',\n",
       " 'the',\n",
       " 'game',\n",
       " 'requires',\n",
       " 'a',\n",
       " 'combination',\n",
       " 'of',\n",
       " 'physical',\n",
       " 'strength',\n",
       " 'speed',\n",
       " 'and',\n",
       " 'strategic',\n",
       " 'thinking',\n",
       " 'football',\n",
       " 'fosters',\n",
       " 'teamwork',\n",
       " 'discipline',\n",
       " 'and',\n",
       " 'sportsmanship',\n",
       " 'among',\n",
       " 'players',\n",
       " 'major',\n",
       " 'tournaments',\n",
       " 'like',\n",
       " 'the',\n",
       " 'fifa',\n",
       " 'world',\n",
       " 'cup',\n",
       " 'and',\n",
       " 'uefa',\n",
       " 'champions',\n",
       " 'league',\n",
       " 'attract',\n",
       " 'millions',\n",
       " 'of',\n",
       " 'fans',\n",
       " 'worldwide',\n",
       " 'the',\n",
       " 'sport',\n",
       " 'is',\n",
       " 'played',\n",
       " 'and',\n",
       " 'loved',\n",
       " 'across',\n",
       " 'all',\n",
       " 'age',\n",
       " 'groups',\n",
       " 'and',\n",
       " 'regions',\n",
       " 'from',\n",
       " 'street',\n",
       " 'games',\n",
       " 'to',\n",
       " 'professional',\n",
       " 'leagues',\n",
       " 'football',\n",
       " 'brings',\n",
       " 'people',\n",
       " 'together',\n",
       " 'its',\n",
       " 'simplicity',\n",
       " 'and',\n",
       " 'excitement',\n",
       " 'make',\n",
       " 'it',\n",
       " 'a',\n",
       " 'universal',\n",
       " 'language',\n",
       " 'of',\n",
       " 'passion',\n",
       " 'and',\n",
       " 'unity']"
      ]
     },
     "execution_count": 18,
     "metadata": {},
     "output_type": "execute_result"
    }
   ],
   "source": [
    "words"
   ]
  },
  {
   "cell_type": "code",
   "execution_count": 19,
   "id": "9b2ac54e-47e9-4d9b-9edd-c9519960af1b",
   "metadata": {},
   "outputs": [],
   "source": [
    "sentences=sent_tokenize(para.lower())"
   ]
  },
  {
   "cell_type": "code",
   "execution_count": 20,
   "id": "1beab117-1283-4490-9c0a-b8f0e2667a5e",
   "metadata": {},
   "outputs": [
    {
     "data": {
      "text/plain": [
       "[\"football, also known as soccer in some countries, is the world's most popular sport.\",\n",
       " 'it is played between two teams of eleven players on a rectangular field with a goal at each end.',\n",
       " \"the main objective is to score goals by getting the ball into the opposing team's net.\",\n",
       " 'the game requires a combination of physical strength, speed, and strategic thinking.',\n",
       " 'football fosters teamwork, discipline, and sportsmanship among players.',\n",
       " 'major tournaments like the fifa world cup and uefa champions league attract millions of fans worldwide.',\n",
       " 'the sport is played and loved across all age groups and regions.',\n",
       " 'from street games to professional leagues, football brings people together.',\n",
       " 'its simplicity and excitement make it a universal language of passion and unity.']"
      ]
     },
     "execution_count": 20,
     "metadata": {},
     "output_type": "execute_result"
    }
   ],
   "source": [
    "sentences\n"
   ]
  },
  {
   "cell_type": "code",
   "execution_count": 21,
   "id": "90473969-552a-4f4e-a425-a53311e5f976",
   "metadata": {},
   "outputs": [],
   "source": [
    "filtered_tokens = [word for word in words if word.lower() not in stop_words]"
   ]
  },
  {
   "cell_type": "code",
   "execution_count": 22,
   "id": "1ceb7aa5-3119-472b-bb8b-8d62e457fc4e",
   "metadata": {},
   "outputs": [
    {
     "data": {
      "text/plain": [
       "['football',\n",
       " 'also',\n",
       " 'known',\n",
       " 'soccer',\n",
       " 'countries',\n",
       " 'worlds',\n",
       " 'popular',\n",
       " 'sport',\n",
       " 'played',\n",
       " 'two',\n",
       " 'teams',\n",
       " 'eleven',\n",
       " 'players',\n",
       " 'rectangular',\n",
       " 'field',\n",
       " 'goal',\n",
       " 'end',\n",
       " 'main',\n",
       " 'objective',\n",
       " 'score',\n",
       " 'goals',\n",
       " 'getting',\n",
       " 'ball',\n",
       " 'opposing',\n",
       " 'teams',\n",
       " 'net',\n",
       " 'game',\n",
       " 'requires',\n",
       " 'combination',\n",
       " 'physical',\n",
       " 'strength',\n",
       " 'speed',\n",
       " 'strategic',\n",
       " 'thinking',\n",
       " 'football',\n",
       " 'fosters',\n",
       " 'teamwork',\n",
       " 'discipline',\n",
       " 'sportsmanship',\n",
       " 'among',\n",
       " 'players',\n",
       " 'major',\n",
       " 'tournaments',\n",
       " 'like',\n",
       " 'fifa',\n",
       " 'world',\n",
       " 'cup',\n",
       " 'uefa',\n",
       " 'champions',\n",
       " 'league',\n",
       " 'attract',\n",
       " 'millions',\n",
       " 'fans',\n",
       " 'worldwide',\n",
       " 'sport',\n",
       " 'played',\n",
       " 'loved',\n",
       " 'across',\n",
       " 'age',\n",
       " 'groups',\n",
       " 'regions',\n",
       " 'street',\n",
       " 'games',\n",
       " 'professional',\n",
       " 'leagues',\n",
       " 'football',\n",
       " 'brings',\n",
       " 'people',\n",
       " 'together',\n",
       " 'simplicity',\n",
       " 'excitement',\n",
       " 'make',\n",
       " 'universal',\n",
       " 'language',\n",
       " 'passion',\n",
       " 'unity']"
      ]
     },
     "execution_count": 22,
     "metadata": {},
     "output_type": "execute_result"
    }
   ],
   "source": [
    "filtered_tokens"
   ]
  },
  {
   "cell_type": "code",
   "execution_count": 23,
   "id": "324c9801-b014-4722-97da-3c044557f664",
   "metadata": {},
   "outputs": [
    {
     "data": {
      "text/plain": [
       "Counter({'football': 3,\n",
       "         'sport': 2,\n",
       "         'played': 2,\n",
       "         'teams': 2,\n",
       "         'players': 2,\n",
       "         'also': 1,\n",
       "         'known': 1,\n",
       "         'soccer': 1,\n",
       "         'countries': 1,\n",
       "         'worlds': 1,\n",
       "         'popular': 1,\n",
       "         'two': 1,\n",
       "         'eleven': 1,\n",
       "         'rectangular': 1,\n",
       "         'field': 1,\n",
       "         'goal': 1,\n",
       "         'end': 1,\n",
       "         'main': 1,\n",
       "         'objective': 1,\n",
       "         'score': 1,\n",
       "         'goals': 1,\n",
       "         'getting': 1,\n",
       "         'ball': 1,\n",
       "         'opposing': 1,\n",
       "         'net': 1,\n",
       "         'game': 1,\n",
       "         'requires': 1,\n",
       "         'combination': 1,\n",
       "         'physical': 1,\n",
       "         'strength': 1,\n",
       "         'speed': 1,\n",
       "         'strategic': 1,\n",
       "         'thinking': 1,\n",
       "         'fosters': 1,\n",
       "         'teamwork': 1,\n",
       "         'discipline': 1,\n",
       "         'sportsmanship': 1,\n",
       "         'among': 1,\n",
       "         'major': 1,\n",
       "         'tournaments': 1,\n",
       "         'like': 1,\n",
       "         'fifa': 1,\n",
       "         'world': 1,\n",
       "         'cup': 1,\n",
       "         'uefa': 1,\n",
       "         'champions': 1,\n",
       "         'league': 1,\n",
       "         'attract': 1,\n",
       "         'millions': 1,\n",
       "         'fans': 1,\n",
       "         'worldwide': 1,\n",
       "         'loved': 1,\n",
       "         'across': 1,\n",
       "         'age': 1,\n",
       "         'groups': 1,\n",
       "         'regions': 1,\n",
       "         'street': 1,\n",
       "         'games': 1,\n",
       "         'professional': 1,\n",
       "         'leagues': 1,\n",
       "         'brings': 1,\n",
       "         'people': 1,\n",
       "         'together': 1,\n",
       "         'simplicity': 1,\n",
       "         'excitement': 1,\n",
       "         'make': 1,\n",
       "         'universal': 1,\n",
       "         'language': 1,\n",
       "         'passion': 1,\n",
       "         'unity': 1})"
      ]
     },
     "execution_count": 23,
     "metadata": {},
     "output_type": "execute_result"
    }
   ],
   "source": [
    "from collections import Counter\n",
    "\n",
    "\n",
    "frequency_table = Counter(filtered_tokens)\n",
    "frequency_table"
   ]
  },
  {
   "cell_type": "code",
   "execution_count": 24,
   "id": "f902769b-8412-48e3-84a6-6db39afb0abf",
   "metadata": {},
   "outputs": [],
   "source": [
    "tokens=filtered_tokens"
   ]
  },
  {
   "cell_type": "code",
   "execution_count": 25,
   "id": "99bb6761-2af7-4818-bcec-bfd3e06a1407",
   "metadata": {},
   "outputs": [
    {
     "name": "stdout",
     "output_type": "stream",
     "text": [
      "football  :  footbal\n",
      "also  :  also\n",
      "known  :  known\n",
      "soccer  :  soccer\n",
      "countries  :  countri\n",
      "worlds  :  world\n",
      "popular  :  popular\n",
      "sport  :  sport\n",
      "played  :  play\n",
      "two  :  two\n",
      "teams  :  team\n",
      "eleven  :  eleven\n",
      "players  :  player\n",
      "rectangular  :  rectangular\n",
      "field  :  field\n",
      "goal  :  goal\n",
      "end  :  end\n",
      "main  :  main\n",
      "objective  :  object\n",
      "score  :  score\n",
      "goals  :  goal\n",
      "getting  :  get\n",
      "ball  :  ball\n",
      "opposing  :  oppos\n",
      "teams  :  team\n",
      "net  :  net\n",
      "game  :  game\n",
      "requires  :  requir\n",
      "combination  :  combin\n",
      "physical  :  physic\n",
      "strength  :  strength\n",
      "speed  :  speed\n",
      "strategic  :  strateg\n",
      "thinking  :  think\n",
      "football  :  footbal\n",
      "fosters  :  foster\n",
      "teamwork  :  teamwork\n",
      "discipline  :  disciplin\n",
      "sportsmanship  :  sportsmanship\n",
      "among  :  among\n",
      "players  :  player\n",
      "major  :  major\n",
      "tournaments  :  tournament\n",
      "like  :  like\n",
      "fifa  :  fifa\n",
      "world  :  world\n",
      "cup  :  cup\n",
      "uefa  :  uefa\n",
      "champions  :  champion\n",
      "league  :  leagu\n",
      "attract  :  attract\n",
      "millions  :  million\n",
      "fans  :  fan\n",
      "worldwide  :  worldwid\n",
      "sport  :  sport\n",
      "played  :  play\n",
      "loved  :  love\n",
      "across  :  across\n",
      "age  :  age\n",
      "groups  :  group\n",
      "regions  :  region\n",
      "street  :  street\n",
      "games  :  game\n",
      "professional  :  profession\n",
      "leagues  :  leagu\n",
      "football  :  footbal\n",
      "brings  :  bring\n",
      "people  :  peopl\n",
      "together  :  togeth\n",
      "simplicity  :  simplic\n",
      "excitement  :  excit\n",
      "make  :  make\n",
      "universal  :  univers\n",
      "language  :  languag\n",
      "passion  :  passion\n",
      "unity  :  uniti\n"
     ]
    }
   ],
   "source": [
    "for w in tokens:\n",
    "    print(w, \" : \", ps.stem(w))"
   ]
  },
  {
   "cell_type": "code",
   "execution_count": 26,
   "id": "7e161f00-f02c-49bb-9ded-12bd36f74e6a",
   "metadata": {},
   "outputs": [],
   "source": [
    "from nltk.stem import LancasterStemmer"
   ]
  },
  {
   "cell_type": "code",
   "execution_count": 27,
   "id": "d9fcc6e8-741e-4bef-b778-5f4f9425bf6a",
   "metadata": {},
   "outputs": [],
   "source": [
    "ls=LancasterStemmer()"
   ]
  },
  {
   "cell_type": "code",
   "execution_count": 28,
   "id": "6dc7a8d2-e356-4001-8259-b37fe3b90550",
   "metadata": {},
   "outputs": [
    {
     "name": "stdout",
     "output_type": "stream",
     "text": [
      "football  :  footbal\n",
      "also  :  also\n",
      "known  :  known\n",
      "soccer  :  socc\n",
      "countries  :  country\n",
      "worlds  :  world\n",
      "popular  :  popul\n",
      "sport  :  sport\n",
      "played  :  play\n",
      "two  :  two\n",
      "teams  :  team\n",
      "eleven  :  elev\n",
      "players  :  play\n",
      "rectangular  :  rectangul\n",
      "field  :  field\n",
      "goal  :  goal\n",
      "end  :  end\n",
      "main  :  main\n",
      "objective  :  object\n",
      "score  :  scor\n",
      "goals  :  goal\n",
      "getting  :  get\n",
      "ball  :  bal\n",
      "opposing  :  oppos\n",
      "teams  :  team\n",
      "net  :  net\n",
      "game  :  gam\n",
      "requires  :  requir\n",
      "combination  :  combin\n",
      "physical  :  phys\n",
      "strength  :  strength\n",
      "speed  :  spee\n",
      "strategic  :  strategic\n",
      "thinking  :  think\n",
      "football  :  footbal\n",
      "fosters  :  fost\n",
      "teamwork  :  teamwork\n",
      "discipline  :  disciplin\n",
      "sportsmanship  :  sportsm\n",
      "among  :  among\n",
      "players  :  play\n",
      "major  :  maj\n",
      "tournaments  :  tourna\n",
      "like  :  lik\n",
      "fifa  :  fif\n",
      "world  :  world\n",
      "cup  :  cup\n",
      "uefa  :  uef\n",
      "champions  :  champ\n",
      "league  :  leagu\n",
      "attract  :  attract\n",
      "millions  :  mil\n",
      "fans  :  fan\n",
      "worldwide  :  worldwid\n",
      "sport  :  sport\n",
      "played  :  play\n",
      "loved  :  lov\n",
      "across  :  across\n",
      "age  :  ag\n",
      "groups  :  group\n",
      "regions  :  reg\n",
      "street  :  street\n",
      "games  :  gam\n",
      "professional  :  profess\n",
      "leagues  :  leagu\n",
      "football  :  footbal\n",
      "brings  :  bring\n",
      "people  :  peopl\n",
      "together  :  togeth\n",
      "simplicity  :  simpl\n",
      "excitement  :  excit\n",
      "make  :  mak\n",
      "universal  :  univers\n",
      "language  :  langu\n",
      "passion  :  pass\n",
      "unity  :  un\n"
     ]
    }
   ],
   "source": [
    "for w in tokens:\n",
    "    print(w, \" : \", ls.stem(w))"
   ]
  },
  {
   "cell_type": "code",
   "execution_count": 29,
   "id": "1d4cf63c-2b94-42c1-a9a3-6914da3bdcb2",
   "metadata": {},
   "outputs": [],
   "source": [
    "from nltk.stem import WordNetLemmatizer"
   ]
  },
  {
   "cell_type": "code",
   "execution_count": 30,
   "id": "cbf0acfe-2f1a-4d25-bebe-3c8fceeae3b5",
   "metadata": {},
   "outputs": [
    {
     "name": "stdout",
     "output_type": "stream",
     "text": [
      "football  :  footbal\n",
      "also  :  also\n",
      "known  :  known\n",
      "soccer  :  socc\n",
      "countries  :  country\n",
      "worlds  :  world\n",
      "popular  :  popul\n",
      "sport  :  sport\n",
      "played  :  play\n",
      "two  :  two\n",
      "teams  :  team\n",
      "eleven  :  elev\n",
      "players  :  play\n",
      "rectangular  :  rectangul\n",
      "field  :  field\n",
      "goal  :  goal\n",
      "end  :  end\n",
      "main  :  main\n",
      "objective  :  object\n",
      "score  :  scor\n",
      "goals  :  goal\n",
      "getting  :  get\n",
      "ball  :  bal\n",
      "opposing  :  oppos\n",
      "teams  :  team\n",
      "net  :  net\n",
      "game  :  gam\n",
      "requires  :  requir\n",
      "combination  :  combin\n",
      "physical  :  phys\n",
      "strength  :  strength\n",
      "speed  :  spee\n",
      "strategic  :  strategic\n",
      "thinking  :  think\n",
      "football  :  footbal\n",
      "fosters  :  fost\n",
      "teamwork  :  teamwork\n",
      "discipline  :  disciplin\n",
      "sportsmanship  :  sportsm\n",
      "among  :  among\n",
      "players  :  play\n",
      "major  :  maj\n",
      "tournaments  :  tourna\n",
      "like  :  lik\n",
      "fifa  :  fif\n",
      "world  :  world\n",
      "cup  :  cup\n",
      "uefa  :  uef\n",
      "champions  :  champ\n",
      "league  :  leagu\n",
      "attract  :  attract\n",
      "millions  :  mil\n",
      "fans  :  fan\n",
      "worldwide  :  worldwid\n",
      "sport  :  sport\n",
      "played  :  play\n",
      "loved  :  lov\n",
      "across  :  across\n",
      "age  :  ag\n",
      "groups  :  group\n",
      "regions  :  reg\n",
      "street  :  street\n",
      "games  :  gam\n",
      "professional  :  profess\n",
      "leagues  :  leagu\n",
      "football  :  footbal\n",
      "brings  :  bring\n",
      "people  :  peopl\n",
      "together  :  togeth\n",
      "simplicity  :  simpl\n",
      "excitement  :  excit\n",
      "make  :  mak\n",
      "universal  :  univers\n",
      "language  :  langu\n",
      "passion  :  pass\n",
      "unity  :  un\n"
     ]
    }
   ],
   "source": [
    "nm=WordNetLemmatizer()\n",
    "for w in tokens:\n",
    "    print(w, \" : \", ls.stem(w))"
   ]
  },
  {
   "cell_type": "code",
   "execution_count": 36,
   "id": "6a0c0f21-d0b5-4bf6-91cd-5aef77311c8f",
   "metadata": {},
   "outputs": [],
   "source": [
    "para=\"\"\"FOOTBALL, also known as soccer in some countries, is the world's most popular sport. It is played between two teams of eleven players on a rectangular field with a goal at each end. The main objective is to score goals by getting the ball into the opposing team's net. The game requires a combination of physical strength, speed, and strategic thinking. Football fosters teamwork, discipline, and sportsmanship among players. Major tournaments like the FIFA World Cup and UEFA Champions League attract millions of fans worldwide. The sport is played and loved across all age groups and regions. From street games to professional leagues, football brings people together. Its simplicity and excitement make it a universal language of passion and unity.\"\"\""
   ]
  },
  {
   "cell_type": "code",
   "execution_count": 37,
   "id": "250ce448-2b63-4a54-bd9d-97ab84c8d8ed",
   "metadata": {},
   "outputs": [
    {
     "data": {
      "text/plain": [
       "['FOOTBALL',\n",
       " 'soccer',\n",
       " 'countries',\n",
       " 'popular',\n",
       " 'played',\n",
       " 'between',\n",
       " 'eleven',\n",
       " 'players',\n",
       " 'rectangular',\n",
       " 'objective',\n",
       " 'getting',\n",
       " 'opposing',\n",
       " 'requires',\n",
       " 'combination',\n",
       " 'physical',\n",
       " 'strength',\n",
       " 'strategic',\n",
       " 'thinking',\n",
       " 'Football',\n",
       " 'fosters',\n",
       " 'teamwork',\n",
       " 'discipline',\n",
       " 'sportsmanship',\n",
       " 'players',\n",
       " 'tournaments',\n",
       " 'Champions',\n",
       " 'League',\n",
       " 'attract',\n",
       " 'millions',\n",
       " 'worldwide',\n",
       " 'played',\n",
       " 'across',\n",
       " 'groups',\n",
       " 'regions',\n",
       " 'street',\n",
       " 'professional',\n",
       " 'leagues',\n",
       " 'football',\n",
       " 'brings',\n",
       " 'people',\n",
       " 'together',\n",
       " 'simplicity',\n",
       " 'excitement',\n",
       " 'universal',\n",
       " 'language',\n",
       " 'passion']"
      ]
     },
     "execution_count": 37,
     "metadata": {},
     "output_type": "execute_result"
    }
   ],
   "source": [
    "import re\n",
    "words_more_than_5 = re.findall(r'\\b\\w{6,}\\b', para)\n",
    "words_more_than_5"
   ]
  },
  {
   "cell_type": "code",
   "execution_count": 40,
   "id": "486b440b-79f3-42d8-8f5c-c42cf85a6cd1",
   "metadata": {},
   "outputs": [
    {
     "data": {
      "text/plain": [
       "[]"
      ]
     },
     "execution_count": 40,
     "metadata": {},
     "output_type": "execute_result"
    }
   ],
   "source": [
    "numbers = re.findall(r'\\b\\d+\\b', para)\n",
    "numbers"
   ]
  },
  {
   "cell_type": "code",
   "execution_count": 41,
   "id": "68029de6-45a6-4d0f-8226-5072c86f80e2",
   "metadata": {},
   "outputs": [
    {
     "data": {
      "text/plain": [
       "['FOOTBALL',\n",
       " 'It',\n",
       " 'The',\n",
       " 'The',\n",
       " 'Football',\n",
       " 'Major',\n",
       " 'FIFA',\n",
       " 'World',\n",
       " 'Cup',\n",
       " 'UEFA',\n",
       " 'Champions',\n",
       " 'League',\n",
       " 'The',\n",
       " 'From',\n",
       " 'Its']"
      ]
     },
     "execution_count": 41,
     "metadata": {},
     "output_type": "execute_result"
    }
   ],
   "source": [
    "capitalized_words = re.findall(r'\\b[A-Z][a-zA-Z]*\\b', para)\n",
    "capitalized_words "
   ]
  },
  {
   "cell_type": "code",
   "execution_count": 42,
   "id": "f2812114-55bf-471b-9e91-7bb5066791b2",
   "metadata": {},
   "outputs": [
    {
     "data": {
      "text/plain": [
       "['also',\n",
       " 'as',\n",
       " 'in',\n",
       " 'is',\n",
       " 'it',\n",
       " 'is',\n",
       " 'of',\n",
       " 'eleven',\n",
       " 'on',\n",
       " 'a',\n",
       " 'a',\n",
       " 'at',\n",
       " 'each',\n",
       " 'end',\n",
       " 'objective',\n",
       " 'is',\n",
       " 'into',\n",
       " 'opposing',\n",
       " 'a',\n",
       " 'of',\n",
       " 'and',\n",
       " 'and',\n",
       " 'among',\n",
       " 'and',\n",
       " 'uefa',\n",
       " 'attract',\n",
       " 'of',\n",
       " 'is',\n",
       " 'and',\n",
       " 'across',\n",
       " 'all',\n",
       " 'age',\n",
       " 'and',\n",
       " 'its',\n",
       " 'and',\n",
       " 'excitement',\n",
       " 'it',\n",
       " 'a',\n",
       " 'universal',\n",
       " 'of',\n",
       " 'and',\n",
       " 'unity']"
      ]
     },
     "execution_count": 42,
     "metadata": {},
     "output_type": "execute_result"
    }
   ],
   "source": [
    "words_only_alphabets = re.findall(r'\\b[a-zA-Z]+\\b', text)\n",
    "vowel_starting_words = [word for word in words_only_alphabets if re.match(r'^[AEIOUaeiou]', word)]\n",
    "vowel_starting_words"
   ]
  },
  {
   "cell_type": "code",
   "execution_count": 43,
   "id": "9f6b5d21-ae0f-40f9-be81-ed50fa527a76",
   "metadata": {},
   "outputs": [
    {
     "data": {
      "text/plain": [
       "\"FOOTBALL, also known as soccer in some countries, is the world's most popular sport. It is played between two teams of eleven players on a rectangular field with a goal at each end. The main objective is to score goals by getting the ball into the opposing team's net. The game requires a combination of physical strength, speed, and strategic thinking. Football fosters teamwork, discipline, and sportsmanship among players. Major tournaments like the FIFA World Cup and UEFA Champions League attract millions of fans worldwide. The sport is played and loved across all age groups and regions. From street games to professional leagues, football brings people together. Its simplicity and excitement make it a universal language of passion and unity.\""
      ]
     },
     "execution_count": 43,
     "metadata": {},
     "output_type": "execute_result"
    }
   ],
   "source": [
    "para\n"
   ]
  },
  {
   "cell_type": "code",
   "execution_count": 44,
   "id": "d6f9a740-8925-4305-af68-f1abe8f75a36",
   "metadata": {},
   "outputs": [
    {
     "name": "stdout",
     "output_type": "stream",
     "text": [
      "['FOOTBALL', 'also', 'known', 'as', 'soccer', 'in', 'some', 'countries', 'is', 'the', 'world', \"'s\", 'most', 'popular', 'sport', 'It', 'is', 'played', 'between', 'two', 'teams', 'of', 'eleven', 'players', 'on', 'a', 'rectangular', 'field', 'with', 'a', 'goal', 'at', 'each', 'end', 'The', 'main', 'objective', 'is', 'to', 'score', 'goals', 'by', 'getting', 'the', 'ball', 'into', 'the', 'opposing', 'team', \"'s\", 'net', 'The', 'game', 'requires', 'a', 'combination', 'of', 'physical', 'strength', 'speed', 'and', 'strategic', 'thinking', 'Football', 'fosters', 'teamwork', 'discipline', 'and', 'sportsmanship', 'among', 'players', 'Major', 'tournaments', 'like', 'the', 'FIFA', 'World', 'Cup', 'and', 'UEFA', 'Champions', 'League', 'attract', 'millions', 'of', 'fans', 'worldwide', 'The', 'sport', 'is', 'played', 'and', 'loved', 'across', 'all', 'age', 'groups', 'and', 'regions', 'From', 'street', 'games', 'to', 'professional', 'leagues', 'football', 'brings', 'people', 'together', 'Its', 'simplicity', 'and', 'excitement', 'make', 'it', 'a', 'universal', 'language', 'of', 'passion', 'and', 'unity']\n"
     ]
    }
   ],
   "source": [
    "import re\n",
    "\n",
    "def custom_tokenizer(text):\n",
    "    # 1. Keep hyphens in hyphenated words and apostrophes in contractions\n",
    "    # 2. Keep decimal numbers (like 3.14)\n",
    "    pattern = r\"\\b(?:\\d+\\.\\d+|\\d+|[a-zA-Z]+(?:-[a-zA-Z]+)*|'[a-zA-Z]+)\\b\"\n",
    "    \n",
    "    tokens = re.findall(pattern, text)\n",
    "    return tokens\n",
    "\n",
    "# Example text\n",
    "\n",
    "tokens = custom_tokenizer(para)\n",
    "print(tokens)\n"
   ]
  },
  {
   "cell_type": "code",
   "execution_count": 45,
   "id": "29aeb526-6918-4a28-a28a-217c1d363767",
   "metadata": {},
   "outputs": [
    {
     "name": "stdout",
     "output_type": "stream",
     "text": [
      "\n",
      "Contact us at <EMAIL> or visit <URL>. \n",
      "You can also call at <PHONE> or +<PHONE> for assistance.\n",
      "\n"
     ]
    }
   ],
   "source": [
    "import re\n",
    "\n",
    "def replace_patterns(text):\n",
    "    # a. Replace email addresses\n",
    "    text = re.sub(r'\\b[\\w\\.-]+@[\\w\\.-]+\\.\\w+\\b', '<EMAIL>', text)\n",
    "\n",
    "    # b. Replace URLs\n",
    "    text = re.sub(r'\\b(?:https?://|www\\.)\\S+\\b', '<URL>', text)\n",
    "\n",
    "    # c. Replace phone numbers\n",
    "    text = re.sub(r'\\b(?:\\+?\\d{1,3}[ -]?)?\\d{3}[- ]?\\d{3}[- ]?\\d{4}\\b', '<PHONE>', text)\n",
    "\n",
    "    return text\n",
    "\n",
    "# Example text\n",
    "text = \"\"\"\n",
    "Contact us at support@example.com or visit https://www.example.com. \n",
    "You can also call at 123-456-7890 or +91 9876543210 for assistance.\n",
    "\"\"\"\n",
    "\n",
    "replaced_text = replace_patterns(text)\n",
    "print(replaced_text)\n"
   ]
  },
  {
   "cell_type": "code",
   "execution_count": null,
   "id": "9af4672b-edae-4a35-a728-0c4fc1ce6a5d",
   "metadata": {},
   "outputs": [],
   "source": []
  }
 ],
 "metadata": {
  "kernelspec": {
   "display_name": "Python 3 (ipykernel)",
   "language": "python",
   "name": "python3"
  },
  "language_info": {
   "codemirror_mode": {
    "name": "ipython",
    "version": 3
   },
   "file_extension": ".py",
   "mimetype": "text/x-python",
   "name": "python",
   "nbconvert_exporter": "python",
   "pygments_lexer": "ipython3",
   "version": "3.9.18"
  }
 },
 "nbformat": 4,
 "nbformat_minor": 5
}
